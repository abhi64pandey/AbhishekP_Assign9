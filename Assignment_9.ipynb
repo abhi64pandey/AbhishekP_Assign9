{
 "cells": [
  {
   "cell_type": "code",
   "execution_count": null,
   "id": "146784fb",
   "metadata": {},
   "outputs": [],
   "source": [
    "Q1: To what does a relative path refer?\n",
    "    \n",
    "Solution:\n",
    "    \n",
    "Relative paths are relative to the current working directory."
   ]
  },
  {
   "cell_type": "code",
   "execution_count": null,
   "id": "c169b1bd",
   "metadata": {},
   "outputs": [],
   "source": [
    "Q2: What does an absolute path start with your operating system?\n",
    "    \n",
    "Solution:\n",
    "    \n",
    "Absolute paths start with the root folder, such as / or C:\\."
   ]
  },
  {
   "cell_type": "code",
   "execution_count": null,
   "id": "221f7551",
   "metadata": {},
   "outputs": [],
   "source": [
    "Q3: What do the functions os.getcwd() and os.chdir() do?\n",
    "    \n",
    "Solution:\n",
    "    \n",
    "The os.getcwd() function returns the current working directory.\n",
    "The os.chdir() function changes the current working directory."
   ]
  },
  {
   "cell_type": "code",
   "execution_count": null,
   "id": "496fca54",
   "metadata": {},
   "outputs": [],
   "source": [
    "Q4: What are the . and .. folders?\n",
    "\n",
    "Solution:\n",
    "    \n",
    "The . folder is the current folder, and .. is the parent folder."
   ]
  },
  {
   "cell_type": "code",
   "execution_count": null,
   "id": "d6f0310a",
   "metadata": {},
   "outputs": [],
   "source": [
    "Q5: In C:\\bacon\\eggs\\spam.txt, which part is the dir name, and which part is the base name?\n",
    "        \n",
    "Solution:\n",
    "    \n",
    "C:\\bacon\\eggs is the dir name, while spam.txt is the base name."
   ]
  },
  {
   "cell_type": "code",
   "execution_count": null,
   "id": "59ee6f41",
   "metadata": {},
   "outputs": [],
   "source": [
    "Q6: What are the three “mode” arguments that can be passed to the open() function?\n",
    "    \n",
    "Solution:\n",
    "    \n",
    "The string 'r' for read mode, 'w' for write mode, and 'a' for append mode."
   ]
  },
  {
   "cell_type": "code",
   "execution_count": null,
   "id": "5b61d2c3",
   "metadata": {},
   "outputs": [],
   "source": [
    "Q7: What happens if an existing file is opened in write mode?\n",
    "    \n",
    "Solution:\n",
    "    \n",
    "An existing file opened in write mode is erased and completely overwritten."
   ]
  },
  {
   "cell_type": "code",
   "execution_count": null,
   "id": "02394ba1",
   "metadata": {},
   "outputs": [],
   "source": [
    "Q8: How do you tell the difference between read() and readlines()?\n",
    "    \n",
    "Solution:\n",
    "    \n",
    "The read() method returns the file’s entire contents as a single string value.\n",
    "The readlines() method returns a list of strings, where each string is a line from the file’s contents."
   ]
  },
  {
   "cell_type": "code",
   "execution_count": null,
   "id": "61a264ac",
   "metadata": {},
   "outputs": [],
   "source": [
    "Q9: What data structure does a shelf value resemble?\n",
    "    \n",
    "Solution:\n",
    "    \n",
    "A shelf value resembles a dictionary value;\n",
    "it has keys and values, along with keys() and values() methods that work similarly to the dictionary methods of the same names."
   ]
  }
 ],
 "metadata": {
  "kernelspec": {
   "display_name": "Python 3 (ipykernel)",
   "language": "python",
   "name": "python3"
  },
  "language_info": {
   "codemirror_mode": {
    "name": "ipython",
    "version": 3
   },
   "file_extension": ".py",
   "mimetype": "text/x-python",
   "name": "python",
   "nbconvert_exporter": "python",
   "pygments_lexer": "ipython3",
   "version": "3.9.7"
  }
 },
 "nbformat": 4,
 "nbformat_minor": 5
}
